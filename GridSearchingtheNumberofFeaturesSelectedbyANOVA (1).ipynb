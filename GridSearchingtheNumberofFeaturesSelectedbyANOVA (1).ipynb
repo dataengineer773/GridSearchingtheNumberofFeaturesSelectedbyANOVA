{
 "cells": [
  {
   "cell_type": "code",
   "execution_count": 1,
   "id": "da10ed7e-c2af-4b59-9b44-422e8c404cae",
   "metadata": {},
   "outputs": [],
   "source": [
    "# compare diffrent numbers of features selected using anova f-test\n",
    "from pandas import read_csv\n",
    "from sklearn.linear_model import LogisticRegression\n",
    "from sklearn.feature_selection import SelectKBest\n",
    "from sklearn.feature_selection import f_classif\n",
    "from sklearn.pipeline import Pipeline\n",
    "from sklearn.model_selection import RepeatedStratifiedKFold\n",
    "from sklearn.model_selection import GridSearchCV"
   ]
  },
  {
   "cell_type": "code",
   "execution_count": 2,
   "id": "97a32319-ba56-4144-8dab-07beda149d05",
   "metadata": {},
   "outputs": [],
   "source": [
    "# load the dataset\n",
    "def load_dataset(filename):\n",
    "    # load the dataset as a pandas DataFrame\n",
    "    data = read_csv(filename, header=0)\n",
    "    # retrieve numpy array\n",
    "    dataset = data.values\n",
    "    # split into (X) and output (y) varriables\n",
    "    X = dataset[:, :-1]\n",
    "    y = dataset[:, -1]\n",
    "    return X, y"
   ]
  },
  {
   "cell_type": "code",
   "execution_count": 3,
   "id": "ba90a8c8-74d1-4d35-bb75-7208d0f0b467",
   "metadata": {},
   "outputs": [],
   "source": [
    "# define dataset\n",
    "X, y = load_dataset('diabetes.csv')"
   ]
  },
  {
   "cell_type": "code",
   "execution_count": 4,
   "id": "5121b624-272d-4ca7-be91-712454c17d0c",
   "metadata": {},
   "outputs": [],
   "source": [
    "# define the evaluation method\n",
    "cv = RepeatedStratifiedKFold(n_splits=10, n_repeats=3, random_state=1)"
   ]
  },
  {
   "cell_type": "code",
   "execution_count": 5,
   "id": "c5dc8519-a0d8-4d80-b763-31e5a7d4633c",
   "metadata": {},
   "outputs": [],
   "source": [
    "# define the pipeline to evaluate\n",
    "model = LogisticRegression(solver='liblinear')\n",
    "fs = SelectKBest(score_func=f_classif)\n",
    "pipeline = Pipeline(steps=[('anova',fs), ('lr',model)])"
   ]
  },
  {
   "cell_type": "code",
   "execution_count": 6,
   "id": "987c8f2e-801b-44a7-98b4-d7eadfe00227",
   "metadata": {},
   "outputs": [],
   "source": [
    "# define the grid\n",
    "grid = dict()\n",
    "grid['anova__k'] = [i+1 for i in range(X.shape[1])]"
   ]
  },
  {
   "cell_type": "code",
   "execution_count": 7,
   "id": "9b658b5b-7be9-4eeb-b3ca-b186885596f6",
   "metadata": {},
   "outputs": [],
   "source": [
    "# define the grid search\n",
    "search = GridSearchCV(pipeline, grid, scoring='accuracy', n_jobs=-1, cv=cv)"
   ]
  },
  {
   "cell_type": "code",
   "execution_count": 8,
   "id": "ab9fba6d-72bf-41c1-ae62-cf6cd216cdaf",
   "metadata": {},
   "outputs": [],
   "source": [
    "# perform the search\n",
    "results = search.fit(X, y)"
   ]
  },
  {
   "cell_type": "code",
   "execution_count": 9,
   "id": "4108a39c-fc82-479f-8644-7972226c9653",
   "metadata": {},
   "outputs": [
    {
     "name": "stdout",
     "output_type": "stream",
     "text": [
      "BEST MEAN ACCURACY : 0.770\n",
      "BEST CONFIG : {'anova__k': 7}\n"
     ]
    }
   ],
   "source": [
    "# summarize best\n",
    "print('BEST MEAN ACCURACY : %.3f' % results.best_score_)\n",
    "print('BEST CONFIG : %s' % results.best_params_)"
   ]
  },
  {
   "cell_type": "code",
   "execution_count": null,
   "id": "89370807-e070-4361-8412-8a673e5fff9e",
   "metadata": {},
   "outputs": [],
   "source": []
  }
 ],
 "metadata": {
  "kernelspec": {
   "display_name": "Python 3 (ipykernel)",
   "language": "python",
   "name": "python3"
  },
  "language_info": {
   "codemirror_mode": {
    "name": "ipython",
    "version": 3
   },
   "file_extension": ".py",
   "mimetype": "text/x-python",
   "name": "python",
   "nbconvert_exporter": "python",
   "pygments_lexer": "ipython3",
   "version": "3.10.12"
  }
 },
 "nbformat": 4,
 "nbformat_minor": 5
}
